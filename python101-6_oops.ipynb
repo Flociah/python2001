{
 "cells": [
  {
   "cell_type": "markdown",
   "id": "ea16e954",
   "metadata": {},
   "source": [
    "# OOPS in Python"
   ]
  },
  {
   "cell_type": "markdown",
   "id": "3ba98a93",
   "metadata": {},
   "source": [
    "Object\n",
    "- A real world entity such as a pen,book, person,animal etc thathas a state and some behaviour.\n",
    "Class\n",
    "- A collection of objects or you can say is a blueprint of objects defining the common attributes and behaviour\n",
    "Methods\n",
    "- are funtions that describe the attributes and behaviour of a object"
   ]
  },
  {
   "cell_type": "code",
   "execution_count": null,
   "id": "5293ac64",
   "metadata": {},
   "outputs": [],
   "source": [
    "#classes\n",
    "class MyClass:\n",
    "    statement1\n",
    "    .\n",
    "    .\n",
    "    .\n",
    "    statementn"
   ]
  },
  {
   "cell_type": "code",
   "execution_count": 1,
   "id": "6e7b4c9a",
   "metadata": {},
   "outputs": [
    {
     "name": "stdout",
     "output_type": "stream",
     "text": [
      "Hello World!\n"
     ]
    }
   ],
   "source": [
    "class NewClass:\n",
    "    def NewFunc(self):\n",
    "        return \"Hello World!\"\n",
    "obj = NewClass()\n",
    "print(obj.NewFunc())"
   ]
  },
  {
   "cell_type": "code",
   "execution_count": 2,
   "id": "97f0553d",
   "metadata": {},
   "outputs": [
    {
     "name": "stdout",
     "output_type": "stream",
     "text": [
      "Hello World!\n",
      "welcome Home\n"
     ]
    }
   ],
   "source": [
    "class NewClass:\n",
    "    def NewFunc(self):\n",
    "        return \"Hello World!\"\n",
    "    def MyFunc(self):\n",
    "        return \"welcome Home\"\n",
    "    \n",
    "obj = NewClass()\n",
    "print(obj.NewFunc())\n",
    "\n",
    "obj2 = NewClass()\n",
    "print(obj.MyFunc())"
   ]
  },
  {
   "cell_type": "code",
   "execution_count": 5,
   "id": "bf13de3c",
   "metadata": {},
   "outputs": [
    {
     "name": "stdout",
     "output_type": "stream",
     "text": [
      "9\n",
      "5\n",
      "10\n",
      "1.3333333333333333\n",
      "------\n",
      "9\n",
      "5\n",
      "10\n",
      "1.3333333333333333\n"
     ]
    }
   ],
   "source": [
    "class Calculating:\n",
    "    def add(self,a,b):\n",
    "        return a+b\n",
    "    \n",
    "    def sub(self,a,b):\n",
    "        return a-b\n",
    "    \n",
    "    def product(self,a,b):\n",
    "        return a*b\n",
    "    \n",
    "    def divide(self,a,b):\n",
    "        return a/b\n",
    "    \n",
    "o1 = Calculating()\n",
    "print(o1.add(4,5))\n",
    "print(o1.sub(10,5))\n",
    "print(o1.product(2,5))\n",
    "print(o1.divide(4,3))\n",
    "\n",
    "print(\"------\")\n",
    "\n",
    "o2 = Calculating()\n",
    "print(o1.add(4,5))\n",
    "print(o1.sub(10,5))\n",
    "print(o1.product(2,5))\n",
    "print(o1.divide(4,3))\n"
   ]
  },
  {
   "cell_type": "markdown",
   "id": "b7cff0b9",
   "metadata": {},
   "source": [
    "INIT method in python"
   ]
  },
  {
   "cell_type": "code",
   "execution_count": 9,
   "id": "dab3ee9f",
   "metadata": {},
   "outputs": [
    {
     "ename": "TypeError",
     "evalue": "PythonProg() takes no arguments",
     "output_type": "error",
     "traceback": [
      "\u001b[1;31m---------------------------------------------------------------------------\u001b[0m",
      "\u001b[1;31mTypeError\u001b[0m                                 Traceback (most recent call last)",
      "\u001b[1;32m~\\AppData\\Local\\Temp\\ipykernel_21452\\1133321817.py\u001b[0m in \u001b[0;36m<module>\u001b[1;34m\u001b[0m\n\u001b[0;32m      7\u001b[0m         \u001b[0mprint\u001b[0m\u001b[1;33m(\u001b[0m\u001b[1;34m\"Hi, my name is\"\u001b[0m\u001b[1;33m+\u001b[0m \u001b[0mself\u001b[0m\u001b[1;33m.\u001b[0m\u001b[0mname\u001b[0m \u001b[1;33m+\u001b[0m \u001b[1;34m\"and my age is\"\u001b[0m\u001b[1;33m+\u001b[0m \u001b[0mself\u001b[0m\u001b[1;33m.\u001b[0m\u001b[0mage\u001b[0m\u001b[1;33m)\u001b[0m\u001b[1;33m\u001b[0m\u001b[1;33m\u001b[0m\u001b[0m\n\u001b[0;32m      8\u001b[0m \u001b[1;33m\u001b[0m\u001b[0m\n\u001b[1;32m----> 9\u001b[1;33m \u001b[0mp1\u001b[0m \u001b[1;33m=\u001b[0m \u001b[0mPythonProg\u001b[0m\u001b[1;33m(\u001b[0m\u001b[1;34m\"Titus\"\u001b[0m\u001b[1;33m,\u001b[0m\u001b[1;34m\"23\"\u001b[0m\u001b[1;33m)\u001b[0m\u001b[1;33m\u001b[0m\u001b[1;33m\u001b[0m\u001b[0m\n\u001b[0m\u001b[0;32m     10\u001b[0m \u001b[0mp1\u001b[0m\u001b[1;33m.\u001b[0m\u001b[0mnewfunc\u001b[0m\u001b[1;33m(\u001b[0m\u001b[1;33m)\u001b[0m\u001b[1;33m\u001b[0m\u001b[1;33m\u001b[0m\u001b[0m\n",
      "\u001b[1;31mTypeError\u001b[0m: PythonProg() takes no arguments"
     ]
    }
   ],
   "source": [
    "class PythonProg:\n",
    "    def _init_(self, name, age):\n",
    "        self.name = name\n",
    "        self.age = age\n",
    "        \n",
    "    def newfunc(self):\n",
    "        print(\"Hi, my name is\"+ self.name + \"and my age is\"+ self.age)\n",
    "        \n",
    "p1 = PythonProg(\"Titus\",\"23\")\n",
    "p1.newfunc()"
   ]
  },
  {
   "cell_type": "code",
   "execution_count": null,
   "id": "548f5fa7",
   "metadata": {},
   "outputs": [],
   "source": [
    "OOP Methodologies:"
   ]
  },
  {
   "cell_type": "markdown",
   "id": "2e56096c",
   "metadata": {},
   "source": [
    "# Inheritance"
   ]
  },
  {
   "cell_type": "markdown",
   "id": "d7718516",
   "metadata": {},
   "source": [
    "Method of inheriting parent properties for child "
   ]
  },
  {
   "cell_type": "code",
   "execution_count": 12,
   "id": "85cb0fb6",
   "metadata": {},
   "outputs": [
    {
     "name": "stdout",
     "output_type": "stream",
     "text": [
      "First Function\n",
      "Second Function\n"
     ]
    }
   ],
   "source": [
    "#single Inheritance\n",
    "class Parent():\n",
    "    def first(self):\n",
    "        print(\"First Function\")\n",
    "        \n",
    "class Child(Parent):\n",
    "    def second(self):\n",
    "        print(\"Second Function\")\n",
    "obj = Child()\n",
    "obj.first()\n",
    "obj.second()\n",
    "# obj is able to access parent class"
   ]
  },
  {
   "cell_type": "code",
   "execution_count": null,
   "id": "57595bea",
   "metadata": {},
   "outputs": [],
   "source": [
    "Single Inheritance - only a single parent\n",
    "Multilevel Inheritance \n",
    "Hierarchial Inheritance\n",
    "Multiple Inheritance"
   ]
  },
  {
   "cell_type": "code",
   "execution_count": 16,
   "id": "a3062c19",
   "metadata": {},
   "outputs": [
    {
     "name": "stdout",
     "output_type": "stream",
     "text": [
      "First Function\n",
      "Second Function\n",
      "Multiple Inheritance\n"
     ]
    }
   ],
   "source": [
    "#multiple Inheritance\n",
    "class Parent1():\n",
    "    def first(self):\n",
    "        print(\"First Function\")\n",
    "class Parent2():\n",
    "    def third(self):\n",
    "        print(\"Multiple Inheritance\")\n",
    "        \n",
    "class Child(Parent1,Parent2):\n",
    "    def second(self):\n",
    "        print(\"Second Function\")\n",
    "obj = Child()\n",
    "obj.first()\n",
    "obj.second()\n",
    "obj.third()\n",
    "# obj is able to access parent class"
   ]
  },
  {
   "cell_type": "code",
   "execution_count": 15,
   "id": "bd14df3c",
   "metadata": {},
   "outputs": [
    {
     "name": "stdout",
     "output_type": "stream",
     "text": [
      "First Function\n",
      "Second Function\n",
      "Multilevel Inheritance\n"
     ]
    }
   ],
   "source": [
    "#Multilevel\n",
    "class Parent1():\n",
    "    def first(self):\n",
    "        print(\"First Function\")\n",
    "        \n",
    "class Child(Parent):\n",
    "    def second(self):\n",
    "        print(\"Second Function\")\n",
    "        \n",
    "class Child2(Child):\n",
    "    def func(self):\n",
    "        print(\"Multilevel Inheritance\")\n",
    "obj = Child2()\n",
    "obj.first()\n",
    "obj.second()\n",
    "obj.func()\n",
    "# obj is able to access parent class"
   ]
  },
  {
   "cell_type": "code",
   "execution_count": 18,
   "id": "5c11c9b4",
   "metadata": {},
   "outputs": [
    {
     "name": "stdout",
     "output_type": "stream",
     "text": [
      "First Function\n",
      "Second Function\n",
      "First Function\n",
      "Herirarchical Inheritance\n"
     ]
    }
   ],
   "source": [
    "#Hierarchical Inheritance\n",
    "class Parent():\n",
    "    def first(self):\n",
    "        print(\"First Function\")\n",
    "        \n",
    "class Child(Parent):\n",
    "    def second(self):\n",
    "        print(\"Second Function\")\n",
    "        \n",
    "class Child2(Parent):\n",
    "    def func(self):\n",
    "        print(\"Herirarchical Inheritance\")\n",
    "obj = Child()\n",
    "obj.first()\n",
    "obj.second()\n",
    "\n",
    "\n",
    "obj1 = Child2()\n",
    "obj1.first()\n",
    "obj1.func()\n",
    "# obj is able to access parent class"
   ]
  },
  {
   "cell_type": "code",
   "execution_count": 19,
   "id": "92807f67",
   "metadata": {},
   "outputs": [
    {
     "name": "stdout",
     "output_type": "stream",
     "text": [
      "First Function\n",
      "Hybrid Inheritance\n"
     ]
    }
   ],
   "source": [
    "#Hybrid Inheritance\n",
    "class Parent():\n",
    "    def first(self):\n",
    "        print(\"First Function\")\n",
    "        \n",
    "class Child(Parent):\n",
    "    def second(self):\n",
    "        print(\"Second Function\")\n",
    "        \n",
    "class Child2(Parent):\n",
    "    def func(self):\n",
    "        print(\"Herirarchical Inheritance\")\n",
    "        \n",
    "class Child3(Child, Parent):\n",
    "    def func2(self):\n",
    "        print(\"Hybrid Inheritance\")\n",
    "\n",
    "obj1 = Child3()\n",
    "obj1.first()\n",
    "obj1.func2()\n",
    "# obj is able to access parent class"
   ]
  },
  {
   "cell_type": "code",
   "execution_count": 20,
   "id": "85fb19fb",
   "metadata": {},
   "outputs": [
    {
     "name": "stdout",
     "output_type": "stream",
     "text": [
      "Second Function\n"
     ]
    }
   ],
   "source": [
    "#Super Inheritance\n",
    "class Parent():\n",
    "    def first(self):\n",
    "        print(\"First Function\")\n",
    "        \n",
    "class Child(Parent):\n",
    "    def second(self):\n",
    "        Super().first()\n",
    "        print(\"Second Function\")\n",
    "obj = Child()\n",
    "obj1.second()\n"
   ]
  },
  {
   "cell_type": "markdown",
   "id": "5029901b",
   "metadata": {},
   "source": [
    "# Polymorphism"
   ]
  },
  {
   "cell_type": "markdown",
   "id": "b323ac4d",
   "metadata": {},
   "source": [
    "It is the ability to exist in multiple forms. A single function can have multiple function definitions."
   ]
  },
  {
   "cell_type": "code",
   "execution_count": null,
   "id": "968a4b2a",
   "metadata": {},
   "outputs": [],
   "source": []
  },
  {
   "cell_type": "markdown",
   "id": "35105d9e",
   "metadata": {},
   "source": [
    "# Encapsulation"
   ]
  },
  {
   "cell_type": "markdown",
   "id": "a6e01702",
   "metadata": {},
   "source": [
    "Encapsulation deals with binding up the data together with the code that is used to work on that data"
   ]
  },
  {
   "cell_type": "markdown",
   "id": "12e7bd45",
   "metadata": {},
   "source": [
    "# Abstraction"
   ]
  }
 ],
 "metadata": {
  "kernelspec": {
   "display_name": "Python 3 (ipykernel)",
   "language": "python",
   "name": "python3"
  },
  "language_info": {
   "codemirror_mode": {
    "name": "ipython",
    "version": 3
   },
   "file_extension": ".py",
   "mimetype": "text/x-python",
   "name": "python",
   "nbconvert_exporter": "python",
   "pygments_lexer": "ipython3",
   "version": "3.9.13"
  }
 },
 "nbformat": 4,
 "nbformat_minor": 5
}
