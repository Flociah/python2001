{
 "cells": [
  {
   "cell_type": "code",
   "execution_count": null,
   "id": "29e72adb",
   "metadata": {},
   "outputs": [
    {
     "name": "stdout",
     "output_type": "stream",
     "text": [
      "WhatsAPP\n",
      "---------------------------------------------\n",
      "Him: You are scheduling a session right?\n",
      "Her : If pattern recognition=yes else no\n"
     ]
    }
   ],
   "source": [
    "#message\n",
    "print(\"WhatsAPP\")\n",
    "print(\"---------------------------------------------\")\n",
    "\n",
    "print(\"Him: You are scheduling a session right?\")\n",
    "print(\"Her : If pattern recognition=yes else no\")\n",
    "\n",
    "#receive Titus Reply\n",
    "reply = input('Him:')\n",
    "print(reply)\n",
    "\n",
    "#let expected response be n and y\n",
    "\n",
    "n=\"no\"\n",
    "y=\"yes\"\n",
    "\n",
    "#conditional statement\n",
    "\n",
    "if reply ==y:\n",
    "    print(\"Her: Tutasoma\")\n",
    "elif reply ==n:\n",
    "    print(\"Her: wewe lala\")\n",
    "else:\n",
    "    print(\"Her: Hujielewi\")\n"
   ]
  },
  {
   "cell_type": "code",
   "execution_count": null,
   "id": "33a7f779",
   "metadata": {},
   "outputs": [],
   "source": []
  },
  {
   "cell_type": "code",
   "execution_count": null,
   "id": "3417639e",
   "metadata": {},
   "outputs": [],
   "source": [
    "#message\n",
    "print(\"WhatsAPP\")\n",
    "print(\"---------------------------------------------\")\n",
    "print(\"Him: You are scheduling a session right?\")\n",
    "print(\"Her : If pattern recognition=yes else no\")\n",
    "#receive Titus Reply\n",
    "reply = input('Him:')\n",
    "print(reply)\n",
    "\n",
    "#let expected response be n and y\n",
    "\n",
    "n=\"no\"\n",
    "y=\"yes\"\n",
    "\n",
    "#conditional statement\n",
    "\n",
    "if reply ==y:\n",
    "    print(\"Her: Tutasoma\")\n",
    "elif x % 5 ==0:\n",
    "    print(\"Her: wewe lala\")\n",
    "else:\n",
    "    print(\"Her: Hujielewi\")\n"
   ]
  },
  {
   "cell_type": "code",
   "execution_count": null,
   "id": "9318df4f",
   "metadata": {},
   "outputs": [],
   "source": []
  }
 ],
 "metadata": {
  "kernelspec": {
   "display_name": "Python 3 (ipykernel)",
   "language": "python",
   "name": "python3"
  },
  "language_info": {
   "codemirror_mode": {
    "name": "ipython",
    "version": 3
   },
   "file_extension": ".py",
   "mimetype": "text/x-python",
   "name": "python",
   "nbconvert_exporter": "python",
   "pygments_lexer": "ipython3",
   "version": "3.9.13"
  }
 },
 "nbformat": 4,
 "nbformat_minor": 5
}
