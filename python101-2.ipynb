{
 "cells": [
  {
   "cell_type": "markdown",
   "id": "16679243",
   "metadata": {},
   "source": [
    "# ALGORITHMS\n",
    "- writing algorthms\n",
    "- elements of good algorithms\n",
    "\n",
    "Algorithm classes\n",
    "a. Divide and Conquer\n",
    "b. Dynamic programming\n",
    "c. Greedy Algorithms\n",
    "\n",
    "Tree Traversal Algorithms\n",
    "1.Inorder Traversals\n",
    "2.Pre-order Traversal\n",
    "3.Post-order Traversal"
   ]
  },
  {
   "cell_type": "markdown",
   "id": "08bc253f",
   "metadata": {},
   "source": [
    "# Tree Traversal\n",
    "Creating a Tree"
   ]
  },
  {
   "cell_type": "code",
   "execution_count": 1,
   "id": "55ed6ae1",
   "metadata": {},
   "outputs": [
    {
     "ename": "TypeError",
     "evalue": "Node() takes no arguments",
     "output_type": "error",
     "traceback": [
      "\u001b[1;31m---------------------------------------------------------------------------\u001b[0m",
      "\u001b[1;31mTypeError\u001b[0m                                 Traceback (most recent call last)",
      "\u001b[1;32m~\\AppData\\Local\\Temp\\ipykernel_6016\\3481167145.py\u001b[0m in \u001b[0;36m<module>\u001b[1;34m\u001b[0m\n\u001b[0;32m      5\u001b[0m         \u001b[0mself\u001b[0m\u001b[1;33m.\u001b[0m\u001b[0mnodedata\u001b[0m \u001b[1;33m=\u001b[0m \u001b[0mval\u001b[0m\u001b[1;33m\u001b[0m\u001b[1;33m\u001b[0m\u001b[0m\n\u001b[0;32m      6\u001b[0m \u001b[1;33m\u001b[0m\u001b[0m\n\u001b[1;32m----> 7\u001b[1;33m \u001b[0mroot\u001b[0m \u001b[1;33m=\u001b[0m \u001b[0mNode\u001b[0m\u001b[1;33m(\u001b[0m\u001b[1;36m1\u001b[0m\u001b[1;33m)\u001b[0m\u001b[1;33m\u001b[0m\u001b[1;33m\u001b[0m\u001b[0m\n\u001b[0m\u001b[0;32m      8\u001b[0m \u001b[0mroot\u001b[0m\u001b[1;33m.\u001b[0m\u001b[0mlc\u001b[0m \u001b[1;33m=\u001b[0m \u001b[0mNode\u001b[0m\u001b[1;33m(\u001b[0m\u001b[1;36m2\u001b[0m\u001b[1;33m)\u001b[0m\u001b[1;33m\u001b[0m\u001b[1;33m\u001b[0m\u001b[0m\n\u001b[0;32m      9\u001b[0m \u001b[0mroot\u001b[0m\u001b[1;33m.\u001b[0m\u001b[0mrc\u001b[0m \u001b[1;33m=\u001b[0m \u001b[0mNode\u001b[0m\u001b[1;33m(\u001b[0m\u001b[1;36m3\u001b[0m\u001b[1;33m)\u001b[0m\u001b[1;33m\u001b[0m\u001b[1;33m\u001b[0m\u001b[0m\n",
      "\u001b[1;31mTypeError\u001b[0m: Node() takes no arguments"
     ]
    }
   ],
   "source": [
    "class Node:\n",
    "    def _init_(self, val):\n",
    "        self.lc = None\n",
    "        self.rc = None\n",
    "        self.nodedata = val\n",
    "        \n",
    "root = Node(1)\n",
    "root.lc = Node(2)\n",
    "root.rc = Node(3)\n",
    "root.lc.lc = Node(4)\n",
    "root.lc.rc = Node(5)"
   ]
  },
  {
   "cell_type": "markdown",
   "id": "8d53d359",
   "metadata": {},
   "source": [
    "# In-order"
   ]
  },
  {
   "cell_type": "code",
   "execution_count": null,
   "id": "cc528fd9",
   "metadata": {},
   "outputs": [],
   "source": [
    "def Inorder(root):\n",
    "    if root:\n",
    "        Inorder(root.lc)\n",
    "        print(root.nodedata)\n",
    "        Inorder(root.rc)\n",
    "Inorder(root)"
   ]
  },
  {
   "cell_type": "markdown",
   "id": "eb97c0ce",
   "metadata": {},
   "source": [
    "# Preorder"
   ]
  },
  {
   "cell_type": "code",
   "execution_count": null,
   "id": "db6d41fe",
   "metadata": {},
   "outputs": [],
   "source": [
    "def Preorder(root):\n",
    "    if root:\n",
    "        print(root.nodedata)\n",
    "        Preorder(root.lc)\n",
    "        Preorder(root.rc)\n",
    "Preorder(root)"
   ]
  },
  {
   "cell_type": "markdown",
   "id": "2a50d79c",
   "metadata": {},
   "source": [
    "# PostOrder"
   ]
  },
  {
   "cell_type": "code",
   "execution_count": null,
   "id": "a3d3293a",
   "metadata": {},
   "outputs": [],
   "source": [
    "def Postorder(root):\n",
    "    if root:\n",
    "        Postorder(root.lc)\n",
    "        Postorder(root.rc)\n",
    "        print(root.nodedata)\n",
    "Postorder(root)"
   ]
  }
 ],
 "metadata": {
  "kernelspec": {
   "display_name": "Python 3 (ipykernel)",
   "language": "python",
   "name": "python3"
  },
  "language_info": {
   "codemirror_mode": {
    "name": "ipython",
    "version": 3
   },
   "file_extension": ".py",
   "mimetype": "text/x-python",
   "name": "python",
   "nbconvert_exporter": "python",
   "pygments_lexer": "ipython3",
   "version": "3.9.13"
  }
 },
 "nbformat": 4,
 "nbformat_minor": 5
}
