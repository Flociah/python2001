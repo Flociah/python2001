{
 "cells": [
  {
   "cell_type": "markdown",
   "id": "8fd5c210",
   "metadata": {},
   "source": [
    "# Python Numpy"
   ]
  },
  {
   "cell_type": "markdown",
   "id": "64a50080",
   "metadata": {},
   "source": [
    "Numpy is the core library for scientific computing in python\n",
    "It provides a high-performance multidimensional array object, and tools for working with these arrays"
   ]
  },
  {
   "cell_type": "code",
   "execution_count": 1,
   "id": "b84dca37",
   "metadata": {},
   "outputs": [],
   "source": [
    "import numpy as np"
   ]
  },
  {
   "cell_type": "code",
   "execution_count": null,
   "id": "ee328496",
   "metadata": {},
   "outputs": [],
   "source": [
    "a= np.array([])"
   ]
  },
  {
   "cell_type": "markdown",
   "id": "a5b3c47b",
   "metadata": {},
   "source": [
    "# Numpy v/s List\n",
    "1. less memory\n",
    "2. fast\n",
    "3. convenient"
   ]
  }
 ],
 "metadata": {
  "kernelspec": {
   "display_name": "Python 3 (ipykernel)",
   "language": "python",
   "name": "python3"
  },
  "language_info": {
   "codemirror_mode": {
    "name": "ipython",
    "version": 3
   },
   "file_extension": ".py",
   "mimetype": "text/x-python",
   "name": "python",
   "nbconvert_exporter": "python",
   "pygments_lexer": "ipython3",
   "version": "3.9.13"
  }
 },
 "nbformat": 4,
 "nbformat_minor": 5
}
