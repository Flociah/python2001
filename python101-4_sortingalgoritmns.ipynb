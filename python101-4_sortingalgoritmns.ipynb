{
 "cells": [
  {
   "cell_type": "markdown",
   "id": "c04d4093",
   "metadata": {},
   "source": [
    "# Sorting ALgorithms"
   ]
  },
  {
   "cell_type": "markdown",
   "id": "bade8ffb",
   "metadata": {},
   "source": [
    "1. Merge Sort\n",
    "2. Bubble Sort\n",
    "3. Insertion Sort\n",
    "4. Selection Sort\n",
    "5. Shell Sort"
   ]
  },
  {
   "cell_type": "markdown",
   "id": "b9d82b88",
   "metadata": {},
   "source": [
    "# 1. Merge Sort"
   ]
  },
  {
   "cell_type": "markdown",
   "id": "c918c026",
   "metadata": {},
   "source": [
    "# 2. Bubble Sort"
   ]
  },
  {
   "cell_type": "markdown",
   "id": "8826e397",
   "metadata": {},
   "source": [
    "# 3. Insertion Sort"
   ]
  },
  {
   "cell_type": "markdown",
   "id": "6e3c2f28",
   "metadata": {},
   "source": [
    "# 4. Selection Sort"
   ]
  },
  {
   "cell_type": "markdown",
   "id": "8901ab3b",
   "metadata": {},
   "source": [
    "# 5. Shell Sort"
   ]
  },
  {
   "cell_type": "code",
   "execution_count": null,
   "id": "22ea40bc",
   "metadata": {},
   "outputs": [],
   "source": []
  }
 ],
 "metadata": {
  "kernelspec": {
   "display_name": "Python 3 (ipykernel)",
   "language": "python",
   "name": "python3"
  },
  "language_info": {
   "codemirror_mode": {
    "name": "ipython",
    "version": 3
   },
   "file_extension": ".py",
   "mimetype": "text/x-python",
   "name": "python",
   "nbconvert_exporter": "python",
   "pygments_lexer": "ipython3",
   "version": "3.9.13"
  }
 },
 "nbformat": 4,
 "nbformat_minor": 5
}
