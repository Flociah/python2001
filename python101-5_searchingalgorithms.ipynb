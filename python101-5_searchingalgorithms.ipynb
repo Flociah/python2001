{
 "cells": [
  {
   "cell_type": "markdown",
   "id": "4accf98a",
   "metadata": {},
   "source": [
    "# Searching Algorithms"
   ]
  },
  {
   "cell_type": "markdown",
   "id": "ce75680d",
   "metadata": {},
   "source": [
    "Searching algorithms are used to search for or fetch some elememts present in some given dataset.\n",
    "There are many:\n",
    "Linear Search\n",
    "Binary Search\n",
    "Exponential Search\n",
    "Interpolation Search\n"
   ]
  },
  {
   "cell_type": "markdown",
   "id": "e992a070",
   "metadata": {},
   "source": [
    "# Linear Search"
   ]
  },
  {
   "cell_type": "markdown",
   "id": "2b07350a",
   "metadata": {},
   "source": [
    "# Binary Search"
   ]
  },
  {
   "cell_type": "code",
   "execution_count": null,
   "id": "6f7715e9",
   "metadata": {},
   "outputs": [],
   "source": []
  },
  {
   "cell_type": "code",
   "execution_count": null,
   "id": "4a6d77d0",
   "metadata": {},
   "outputs": [],
   "source": []
  }
 ],
 "metadata": {
  "kernelspec": {
   "display_name": "Python 3 (ipykernel)",
   "language": "python",
   "name": "python3"
  },
  "language_info": {
   "codemirror_mode": {
    "name": "ipython",
    "version": 3
   },
   "file_extension": ".py",
   "mimetype": "text/x-python",
   "name": "python",
   "nbconvert_exporter": "python",
   "pygments_lexer": "ipython3",
   "version": "3.9.13"
  }
 },
 "nbformat": 4,
 "nbformat_minor": 5
}
