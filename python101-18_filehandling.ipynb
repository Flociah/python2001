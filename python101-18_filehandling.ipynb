{
 "cells": [
  {
   "cell_type": "markdown",
   "id": "36a81d68",
   "metadata": {},
   "source": [
    "# FILE HANDLING"
   ]
  },
  {
   "cell_type": "code",
   "execution_count": null,
   "id": "6c3d9fe0",
   "metadata": {},
   "outputs": [],
   "source": [
    "Python\n",
    "- Binary \n",
    "- Text\n",
    "\n",
    "Windows\n",
    "- Image\n",
    "- Text\n",
    "- Audio\n",
    "- Executable"
   ]
  }
 ],
 "metadata": {
  "kernelspec": {
   "display_name": "Python 3 (ipykernel)",
   "language": "python",
   "name": "python3"
  },
  "language_info": {
   "codemirror_mode": {
    "name": "ipython",
    "version": 3
   },
   "file_extension": ".py",
   "mimetype": "text/x-python",
   "name": "python",
   "nbconvert_exporter": "python",
   "pygments_lexer": "ipython3",
   "version": "3.9.13"
  }
 },
 "nbformat": 4,
 "nbformat_minor": 5
}
