{
 "cells": [
  {
   "cell_type": "markdown",
   "id": "3fad1558",
   "metadata": {},
   "source": [
    "# Python Matplotlib"
   ]
  },
  {
   "cell_type": "markdown",
   "id": "cd05fd3f",
   "metadata": {},
   "source": [
    "is a python package used for 2D graphics"
   ]
  },
  {
   "cell_type": "markdown",
   "id": "df74ac70",
   "metadata": {},
   "source": [
    "# Types of Plots\n",
    "Bar graph\n",
    "Histograms\n",
    "Scatter Plot\n",
    "Pie Plot\n",
    "Hexagonal Bin Plot\n",
    "Area Plot"
   ]
  }
 ],
 "metadata": {
  "kernelspec": {
   "display_name": "Python 3 (ipykernel)",
   "language": "python",
   "name": "python3"
  },
  "language_info": {
   "codemirror_mode": {
    "name": "ipython",
    "version": 3
   },
   "file_extension": ".py",
   "mimetype": "text/x-python",
   "name": "python",
   "nbconvert_exporter": "python",
   "pygments_lexer": "ipython3",
   "version": "3.9.13"
  }
 },
 "nbformat": 4,
 "nbformat_minor": 5
}
