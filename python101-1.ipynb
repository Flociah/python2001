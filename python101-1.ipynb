{
 "cells": [
  {
   "cell_type": "markdown",
   "id": "bf0c5949",
   "metadata": {},
   "source": [
    "# VARIABLES IN PYTHON"
   ]
  },
  {
   "cell_type": "code",
   "execution_count": 3,
   "id": "14061cfa",
   "metadata": {},
   "outputs": [
    {
     "name": "stdout",
     "output_type": "stream",
     "text": [
      "Hi func\n",
      "hello Tito\n"
     ]
    }
   ],
   "source": [
    "c= \"hello Tito\"\n",
    "def func():\n",
    "    c=\"Hi func\"\n",
    "    print (c)\n",
    "    \n",
    "func()\n",
    "print (c)\n"
   ]
  },
  {
   "cell_type": "markdown",
   "id": "3844f3d3",
   "metadata": {},
   "source": [
    "# Data Types In Python"
   ]
  },
  {
   "cell_type": "code",
   "execution_count": 4,
   "id": "227e1e69",
   "metadata": {},
   "outputs": [
    {
     "name": "stdout",
     "output_type": "stream",
     "text": [
      "<class 'int'>\n",
      "<class 'int'>\n",
      "<class 'float'>\n"
     ]
    }
   ],
   "source": [
    "x = 19\n",
    "y = -4\n",
    "z = 45.6\n",
    "print(type (x))\n",
    "print(type (y))\n",
    "print(type (z))"
   ]
  },
  {
   "cell_type": "code",
   "execution_count": 5,
   "id": "aaa6d8af",
   "metadata": {},
   "outputs": [
    {
     "name": "stdout",
     "output_type": "stream",
     "text": [
      "<class 'bool'>\n",
      "False\n"
     ]
    }
   ],
   "source": [
    "#Boolean\n",
    "b = 2>6\n",
    "print(type (b))\n",
    "print(b)"
   ]
  },
  {
   "cell_type": "code",
   "execution_count": 6,
   "id": "a66e34a8",
   "metadata": {},
   "outputs": [
    {
     "name": "stdout",
     "output_type": "stream",
     "text": [
      "<class 'int'>\n",
      "Tito\n"
     ]
    },
    {
     "data": {
      "text/plain": [
       "'i'"
      ]
     },
     "execution_count": 6,
     "metadata": {},
     "output_type": "execute_result"
    }
   ],
   "source": [
    "#Strings\n",
    "my_name =\"Tito\"\n",
    "print(type (x))\n",
    "print(my_name)\n",
    "\n",
    "#accessing string values\n",
    "my_name[1]"
   ]
  },
  {
   "cell_type": "code",
   "execution_count": 10,
   "id": "001a71c4",
   "metadata": {},
   "outputs": [
    {
     "data": {
      "text/plain": [
       "'o'"
      ]
     },
     "execution_count": 10,
     "metadata": {},
     "output_type": "execute_result"
    }
   ],
   "source": [
    "my_name[-1]\n"
   ]
  },
  {
   "cell_type": "code",
   "execution_count": 9,
   "id": "b7324c07",
   "metadata": {},
   "outputs": [
    {
     "data": {
      "text/plain": [
       "'t'"
      ]
     },
     "execution_count": 9,
     "metadata": {},
     "output_type": "execute_result"
    }
   ],
   "source": [
    "#negative indices start from -1 \n",
    "my_name[-2]"
   ]
  },
  {
   "cell_type": "markdown",
   "id": "96322383",
   "metadata": {},
   "source": [
    "# FLOW CONTROL"
   ]
  },
  {
   "cell_type": "markdown",
   "id": "bd9a211c",
   "metadata": {},
   "source": [
    "# 1. CONDITIONAL STATEMENTS"
   ]
  },
  {
   "cell_type": "code",
   "execution_count": null,
   "id": "7af6a6e9",
   "metadata": {},
   "outputs": [],
   "source": [
    "#syntax\n",
    "if (test expression):\n",
    "    #statements when conditions is true\n",
    "elif(test expression):\n",
    "    #statements when the elif condition is met\n",
    "else:\n",
    "    #final statements"
   ]
  },
  {
   "cell_type": "code",
   "execution_count": 12,
   "id": "e069282d",
   "metadata": {},
   "outputs": [
    {
     "name": "stdout",
     "output_type": "stream",
     "text": [
      "X is divisible by 3\n"
     ]
    }
   ],
   "source": [
    "x = 11\n",
    "if x % 3 ==0:\n",
    "    print(\"X is divisible by 3\")\n",
    "elif x % 5 ==0:\n",
    "    print(\"X is divisible by 5\")\n",
    "else:\n",
    "    print(\"X is NOT divisible by 3 or 5\")"
   ]
  },
  {
   "cell_type": "code",
   "execution_count": 20,
   "id": "5cbe39dd",
   "metadata": {},
   "outputs": [
    {
     "name": "stdout",
     "output_type": "stream",
     "text": [
      "Prime\n"
     ]
    }
   ],
   "source": [
    "#check whether a value is prime or not\n",
    "a = 3\n",
    "if a>1:\n",
    "    for x in range(2,a):\n",
    "        if(a%x)==0:\n",
    "            print(\"Not Prime\")\n",
    "            break\n",
    "        else:\n",
    "            print(\"Prime\")\n",
    "else:\n",
    "    print(\" value of a<= 1\")"
   ]
  },
  {
   "cell_type": "code",
   "execution_count": 29,
   "id": "67fc29aa",
   "metadata": {},
   "outputs": [
    {
     "name": "stdout",
     "output_type": "stream",
     "text": [
      "a is less than b\n"
     ]
    }
   ],
   "source": [
    "#Shorthand for if\n",
    "a = 1\n",
    "b = 7\n",
    "if a < b: print(\"a is less than b\")"
   ]
  },
  {
   "cell_type": "code",
   "execution_count": 28,
   "id": "77a4139e",
   "metadata": {},
   "outputs": [
    {
     "name": "stdout",
     "output_type": "stream",
     "text": [
      "a is greater than b\n"
     ]
    }
   ],
   "source": [
    "print(\"a is less than b\") if a < b else print(\"a is greater than b\")"
   ]
  },
  {
   "cell_type": "markdown",
   "id": "19b3bf99",
   "metadata": {},
   "source": [
    "# B. Loops"
   ]
  },
  {
   "cell_type": "markdown",
   "id": "6b7a6649",
   "metadata": {},
   "source": [
    "# for Loop"
   ]
  },
  {
   "cell_type": "code",
   "execution_count": null,
   "id": "34187de4",
   "metadata": {},
   "outputs": [],
   "source": [
    "for interator_variable in sequence\n",
    "    statement(s)"
   ]
  },
  {
   "cell_type": "code",
   "execution_count": 30,
   "id": "603576bf",
   "metadata": {},
   "outputs": [
    {
     "name": "stdout",
     "output_type": "stream",
     "text": [
      "2\n",
      "1\n",
      "32\n",
      "5\n",
      "12\n"
     ]
    }
   ],
   "source": [
    "my_list = [2,1,32,5,12]\n",
    "for x in my_list:\n",
    "    print(x)"
   ]
  },
  {
   "cell_type": "code",
   "execution_count": 34,
   "id": "70dc25dd",
   "metadata": {},
   "outputs": [
    {
     "name": "stdout",
     "output_type": "stream",
     "text": [
      "H\n",
      "e\n",
      "l\n",
      "l\n",
      "o\n",
      " \n",
      "L\n",
      "o\n",
      "o\n",
      "p\n",
      "s\n"
     ]
    }
   ],
   "source": [
    "my_str = \"Hello Loops\"\n",
    "for x in my_str:\n",
    "    print(x)"
   ]
  },
  {
   "cell_type": "code",
   "execution_count": 32,
   "id": "6a95c960",
   "metadata": {},
   "outputs": [
    {
     "name": "stdout",
     "output_type": "stream",
     "text": [
      "H\n",
      "e\n",
      "l\n"
     ]
    }
   ],
   "source": [
    "my_str = \"Hello Loops\"\n",
    "for x in my_str[0:3]:\n",
    "    print(x)"
   ]
  },
  {
   "cell_type": "code",
   "execution_count": 33,
   "id": "698893a6",
   "metadata": {},
   "outputs": [
    {
     "name": "stdout",
     "output_type": "stream",
     "text": [
      "l\n",
      "o\n",
      " \n",
      "L\n",
      "o\n",
      "o\n",
      "p\n",
      "s\n"
     ]
    }
   ],
   "source": [
    "#all values after 3\n",
    "my_str = \"Hello Loops\"\n",
    "for x in my_str[3:]:\n",
    "    print(x)"
   ]
  },
  {
   "cell_type": "markdown",
   "id": "95d47887",
   "metadata": {},
   "source": [
    "# While Loop"
   ]
  },
  {
   "cell_type": "code",
   "execution_count": null,
   "id": "1d2ad608",
   "metadata": {},
   "outputs": [],
   "source": [
    "#excecutes as long as the statement is true\n",
    "#initialize\n",
    "#specify\n",
    "#increment\n",
    "\n",
    "#Syntax\n",
    "while (expression):\n",
    "    statement(s)"
   ]
  },
  {
   "cell_type": "code",
   "execution_count": 39,
   "id": "0b320a5e",
   "metadata": {},
   "outputs": [
    {
     "name": "stdout",
     "output_type": "stream",
     "text": [
      "0\n",
      "1\n",
      "2\n",
      "3\n"
     ]
    }
   ],
   "source": [
    "i=0\n",
    "while i<4:\n",
    "    print(i)\n",
    "    i +=1"
   ]
  },
  {
   "cell_type": "markdown",
   "id": "435dfd85",
   "metadata": {},
   "source": [
    "# Loop Control statements"
   ]
  },
  {
   "cell_type": "markdown",
   "id": "f3a6c3eb",
   "metadata": {},
   "source": [
    "break\n",
    "continue\n",
    "pass"
   ]
  },
  {
   "cell_type": "code",
   "execution_count": 38,
   "id": "bd314fad",
   "metadata": {},
   "outputs": [
    {
     "name": "stdout",
     "output_type": "stream",
     "text": [
      "R\n",
      "e\n",
      "v\n",
      "i\n",
      "loop has ended\n"
     ]
    }
   ],
   "source": [
    "for x in \"Revision Ke\":\n",
    "    if x == \"s\":\n",
    "        break\n",
    "    print(x)\n",
    "print(\"loop has ended\")\n"
   ]
  },
  {
   "cell_type": "code",
   "execution_count": 48,
   "id": "767aaadd",
   "metadata": {},
   "outputs": [
    {
     "name": "stdout",
     "output_type": "stream",
     "text": [
      "R\n",
      "e\n",
      "v\n",
      "i\n",
      "s\n",
      "i\n",
      "o\n",
      "n\n",
      " \n",
      "K\n",
      "e\n",
      "loop has ended\n"
     ]
    }
   ],
   "source": [
    "for x in \"Revision Ke\":\n",
    "    if x == \"s\":\n",
    "        pass\n",
    "    print(x)\n",
    "print(\"loop has ended\")\n"
   ]
  },
  {
   "cell_type": "code",
   "execution_count": 47,
   "id": "6aa09ace",
   "metadata": {},
   "outputs": [
    {
     "name": "stdout",
     "output_type": "stream",
     "text": [
      "R\n",
      "e\n",
      "v\n",
      "i\n",
      "i\n",
      "o\n",
      "n\n",
      " \n",
      "K\n",
      "e\n",
      "loop has ended\n"
     ]
    }
   ],
   "source": [
    "for x in \"Revision Ke\":\n",
    "    if x == \"s\":\n",
    "        continue\n",
    "    print(x)\n",
    "print(\"loop has ended\")"
   ]
  },
  {
   "cell_type": "code",
   "execution_count": 51,
   "id": "87745136",
   "metadata": {},
   "outputs": [
    {
     "name": "stdout",
     "output_type": "stream",
     "text": [
      "R\n",
      "e\n",
      "v\n",
      "i\n",
      "i\n",
      "o\n",
      "n\n",
      " \n",
      "K\n",
      "e\n",
      "loop has ended\n"
     ]
    }
   ],
   "source": [
    "for x in \"Revision Ke\":\n",
    "    if x == \"s\":\n",
    "        continue\n",
    "        print(\"control executed\")\n",
    "    print(x)\n",
    "print(\"loop has ended\")\n"
   ]
  },
  {
   "cell_type": "code",
   "execution_count": 1,
   "id": "dfea10fa",
   "metadata": {},
   "outputs": [
    {
     "name": "stdout",
     "output_type": "stream",
     "text": [
      "1\n",
      "22\n",
      "333\n",
      "4444\n",
      "55555\n",
      "666666\n",
      "7777777\n",
      "88888888\n",
      "999999999\n"
     ]
    }
   ],
   "source": [
    "#nested loops\n",
    "for x in range(1,10):\n",
    "    for y in range(x):\n",
    "        print(x, end=\"\")\n",
    "    print()"
   ]
  },
  {
   "cell_type": "code",
   "execution_count": 54,
   "id": "aba2e90b",
   "metadata": {},
   "outputs": [
    {
     "name": "stdout",
     "output_type": "stream",
     "text": [
      "5\n",
      "-------\n",
      "4\n",
      "-------\n",
      "3\n",
      "-------\n",
      "2\n",
      "-------\n",
      "1\n",
      "-------\n"
     ]
    }
   ],
   "source": [
    "a = [1,2,3,4,5]\n",
    "while a:\n",
    "    print (a.pop(-1))\n",
    "    b = [\"-------\"]\n",
    "    while b:\n",
    "        print(b.pop(0))"
   ]
  },
  {
   "cell_type": "code",
   "execution_count": 57,
   "id": "fb96e17b",
   "metadata": {},
   "outputs": [
    {
     "name": "stdout",
     "output_type": "stream",
     "text": [
      "0 1 1 2 3 5 8 13 21 34 55 89 "
     ]
    }
   ],
   "source": [
    "\n",
    "def fib():\n",
    "    f,s=0,1\n",
    "    while True:\n",
    "        yield f\n",
    "        #generators in python\n",
    "        f,s=s,f+s\n",
    "for x in fib():\n",
    "    if x>100:\n",
    "        break\n",
    "    print(x, end=\" \")\n"
   ]
  },
  {
   "cell_type": "markdown",
   "id": "99570e52",
   "metadata": {},
   "source": [
    "#   FUNCTIONS"
   ]
  },
  {
   "cell_type": "markdown",
   "id": "3e392615",
   "metadata": {},
   "source": [
    "# BUILT IN FUNTIONS\n",
    "1. print()\n",
    "2. \n",
    "\n",
    "help(function)"
   ]
  },
  {
   "cell_type": "code",
   "execution_count": 58,
   "id": "fcd83ea5",
   "metadata": {},
   "outputs": [
    {
     "name": "stdout",
     "output_type": "stream",
     "text": [
      "Revision Ke!\n",
      "Revision Ke!\n",
      "RevisionKe! 2020\n",
      "Revision-Ke!\n"
     ]
    }
   ],
   "source": [
    "print(\"Revision Ke!\")\n",
    "print(\"Revision\",\"Ke!\")\n",
    "print(\"Revision\"+\"Ke!\",2020)\n",
    "print(\"Revision\",\"Ke!\", sep=\"-\")\n"
   ]
  },
  {
   "cell_type": "code",
   "execution_count": 59,
   "id": "7d28371b",
   "metadata": {},
   "outputs": [
    {
     "name": "stdout",
     "output_type": "stream",
     "text": [
      "1\n",
      "7\n"
     ]
    }
   ],
   "source": [
    "a = [1,2,3,4,5,6,7]\n",
    "print(min(a))\n",
    "print(max(a))"
   ]
  },
  {
   "cell_type": "code",
   "execution_count": 64,
   "id": "90706ddf",
   "metadata": {},
   "outputs": [
    {
     "data": {
      "text/plain": [
       "28"
      ]
     },
     "execution_count": 64,
     "metadata": {},
     "output_type": "execute_result"
    }
   ],
   "source": [
    "a = [1,2,3,4,5,6,7]\n",
    "sum(a)\n"
   ]
  },
  {
   "cell_type": "code",
   "execution_count": 65,
   "id": "f82c3ce6",
   "metadata": {},
   "outputs": [
    {
     "data": {
      "text/plain": [
       "38"
      ]
     },
     "execution_count": 65,
     "metadata": {},
     "output_type": "execute_result"
    }
   ],
   "source": [
    "#sum has two functions (iterable and Start (def o))\n",
    "sum(a,10)"
   ]
  },
  {
   "cell_type": "markdown",
   "id": "36b84e6e",
   "metadata": {},
   "source": [
    "# Lambda Functions\n",
    "lambda arguments : expressions\n"
   ]
  },
  {
   "cell_type": "code",
   "execution_count": 66,
   "id": "5a551c38",
   "metadata": {},
   "outputs": [
    {
     "name": "stdout",
     "output_type": "stream",
     "text": [
      "9\n"
     ]
    }
   ],
   "source": [
    "a=lambda x: x*x\n",
    "print(a(3))"
   ]
  },
  {
   "cell_type": "code",
   "execution_count": 68,
   "id": "939030ab",
   "metadata": {},
   "outputs": [
    {
     "name": "stdout",
     "output_type": "stream",
     "text": [
      "4\n"
     ]
    }
   ],
   "source": [
    "#takes only a single expression\n",
    "b=lambda x,y: x+y\n",
    "print(b(1,3))"
   ]
  },
  {
   "cell_type": "markdown",
   "id": "ff165a05",
   "metadata": {},
   "source": [
    "# USER-DEFINED FUNCTIONS\n"
   ]
  },
  {
   "cell_type": "code",
   "execution_count": null,
   "id": "33b4c418",
   "metadata": {},
   "outputs": [],
   "source": [
    "def name_func(argument1,...):\n",
    "    statement1\n",
    "    statemen2\n",
    "    .\n",
    "    .\n",
    "    .\n",
    "    "
   ]
  },
  {
   "cell_type": "code",
   "execution_count": 69,
   "id": "30c93232",
   "metadata": {},
   "outputs": [
    {
     "data": {
      "text/plain": [
       "6"
      ]
     },
     "execution_count": 69,
     "metadata": {},
     "output_type": "execute_result"
    }
   ],
   "source": [
    "def add(x,y):\n",
    "    sum=x+y\n",
    "    return sum\n",
    "add(2,4)\n",
    "    "
   ]
  },
  {
   "cell_type": "code",
   "execution_count": 70,
   "id": "4c893d54",
   "metadata": {},
   "outputs": [
    {
     "name": "stdout",
     "output_type": "stream",
     "text": [
      "15\n"
     ]
    }
   ],
   "source": [
    "def new_func(x):\n",
    "    return(lambda y: x*y)\n",
    "t=new_func(3)\n",
    "print(t(5))\n",
    "    "
   ]
  },
  {
   "cell_type": "markdown",
   "id": "9e022136",
   "metadata": {},
   "source": [
    "# DATA STRUCTURES"
   ]
  },
  {
   "cell_type": "markdown",
   "id": "cc30c21b",
   "metadata": {},
   "source": [
    "# 1. LISTS"
   ]
  },
  {
   "cell_type": "code",
   "execution_count": 12,
   "id": "e2d002e8",
   "metadata": {},
   "outputs": [
    {
     "name": "stdout",
     "output_type": "stream",
     "text": [
      "[1, 2, 3, 4, 5, 6, 7]\n",
      "<class 'list'>\n",
      "[1, 2, 3, 4, 5, 6, 7, 'func']\n"
     ]
    }
   ],
   "source": [
    "new_list = [1,2,3,4,5,6,7] #creating list by assighnment\n",
    "my_list =  list([1,2,3,4,5,6,7,\"func\"])\n",
    "#creating list using Inbuilt function list(args)\n",
    "\n",
    "print(new_list)\n",
    "print(type(new_list))\n",
    "print(my_list)"
   ]
  },
  {
   "cell_type": "code",
   "execution_count": 15,
   "id": "f59f99a5",
   "metadata": {},
   "outputs": [
    {
     "name": "stdout",
     "output_type": "stream",
     "text": [
      "[]\n",
      "[]\n"
     ]
    }
   ],
   "source": [
    "#adding elements to a list\n",
    "a = list([])\n",
    "b = []\n",
    "print(a)\n",
    "print(b)\n"
   ]
  },
  {
   "cell_type": "code",
   "execution_count": 18,
   "id": "a5dfed25",
   "metadata": {},
   "outputs": [
    {
     "name": "stdout",
     "output_type": "stream",
     "text": [
      "[5, [2, 4, 5]]\n"
     ]
    }
   ],
   "source": [
    "#append - add single element to list\n",
    "a.append([2,4,5])\n",
    "\n",
    "print(a)\n",
    "\n"
   ]
  },
  {
   "cell_type": "code",
   "execution_count": 90,
   "id": "9ca96679",
   "metadata": {},
   "outputs": [
    {
     "name": "stdout",
     "output_type": "stream",
     "text": [
      "[1, 2, 3, 4, 5, 6, 7, 9, 10]\n"
     ]
    }
   ],
   "source": [
    "# extend - add a number of elements one after another\n",
    "new_list.extend([9,10])\n",
    "print(new_list)"
   ]
  },
  {
   "cell_type": "code",
   "execution_count": 96,
   "id": "f221329a",
   "metadata": {},
   "outputs": [
    {
     "name": "stdout",
     "output_type": "stream",
     "text": [
      "[1, 2, 'Revision ke!', 3, 4, 5, 7, 9, 10]\n"
     ]
    }
   ],
   "source": [
    "# insert() - add element ast specified location\n",
    "new_list.insert(2,\"Revision ke!\")\n",
    "print(new_list)"
   ]
  },
  {
   "cell_type": "code",
   "execution_count": 97,
   "id": "e6a68942",
   "metadata": {},
   "outputs": [
    {
     "name": "stdout",
     "output_type": "stream",
     "text": [
      "[1, 2, 'Revision ke!', 3, 4, 7, 9, 10]\n"
     ]
    }
   ],
   "source": [
    "#Removing elements from a list\n",
    "new_list.pop(5)\n",
    "print(new_list)"
   ]
  },
  {
   "cell_type": "code",
   "execution_count": 98,
   "id": "f63a8ada",
   "metadata": {},
   "outputs": [
    {
     "name": "stdout",
     "output_type": "stream",
     "text": [
      "[1, 'Revision ke!', 3, 4, 7, 9, 10]\n"
     ]
    }
   ],
   "source": [
    "new_list.remove(2)\n",
    "print(new_list)"
   ]
  },
  {
   "cell_type": "code",
   "execution_count": 99,
   "id": "322c407a",
   "metadata": {},
   "outputs": [
    {
     "name": "stdout",
     "output_type": "stream",
     "text": [
      "1\n",
      "Revision ke!\n",
      "3\n",
      "4\n",
      "7\n",
      "9\n",
      "10\n"
     ]
    }
   ],
   "source": [
    "#ACCESSING - \n",
    "# all list elements\n",
    "for x in new_list:\n",
    "    print(x)"
   ]
  },
  {
   "cell_type": "code",
   "execution_count": 100,
   "id": "aeb7e6c7",
   "metadata": {},
   "outputs": [
    {
     "name": "stdout",
     "output_type": "stream",
     "text": [
      "1\n",
      "Revision ke!\n"
     ]
    }
   ],
   "source": [
    "#ACCESSING - \n",
    "#specific element\n",
    "for x in new_list[:2]:\n",
    "    print(x)"
   ]
  },
  {
   "cell_type": "markdown",
   "id": "328ca6b8",
   "metadata": {},
   "source": [
    "# 2. Dictionaries"
   ]
  },
  {
   "cell_type": "code",
   "execution_count": 102,
   "id": "16fc6259",
   "metadata": {},
   "outputs": [
    {
     "name": "stdout",
     "output_type": "stream",
     "text": [
      "{1: 'Hello', 2: 'Tito'}\n"
     ]
    }
   ],
   "source": [
    " #Creating dictionaries\n",
    "e = {1:\"Hello\",2:\"Tito\"}\n",
    "print (e)"
   ]
  },
  {
   "cell_type": "code",
   "execution_count": 103,
   "id": "02fe990e",
   "metadata": {},
   "outputs": [
    {
     "name": "stdout",
     "output_type": "stream",
     "text": [
      "{1: 'Hello', 2: 'Tito'}\n"
     ]
    }
   ],
   "source": [
    " #Creating dictionaries using dict function\n",
    "f = dict({1:\"Hello\",2:\"Tito\"})\n",
    "print (f)"
   ]
  },
  {
   "cell_type": "code",
   "execution_count": 104,
   "id": "0a549f80",
   "metadata": {},
   "outputs": [
    {
     "name": "stdout",
     "output_type": "stream",
     "text": [
      "{1: 'Hello', 2: 'Muthomi'}\n"
     ]
    }
   ],
   "source": [
    " #modifying values in dictionaries \n",
    "    #acces with key\n",
    "f[2] = \"Muthomi\"\n",
    "print (f)"
   ]
  },
  {
   "cell_type": "code",
   "execution_count": 105,
   "id": "24590637",
   "metadata": {},
   "outputs": [
    {
     "name": "stdout",
     "output_type": "stream",
     "text": [
      "{2: 'Muthomi'}\n"
     ]
    }
   ],
   "source": [
    "#deleting Dictionaries - Pop() - return a tiup\n",
    "\n",
    "f.pop(1)\n",
    "print(f)\n"
   ]
  },
  {
   "cell_type": "code",
   "execution_count": 106,
   "id": "bf11f058",
   "metadata": {},
   "outputs": [
    {
     "data": {
      "text/plain": [
       "<function dict.clear>"
      ]
     },
     "execution_count": 106,
     "metadata": {},
     "output_type": "execute_result"
    }
   ],
   "source": [
    "#deleting dictionary\n",
    "f.clear\n"
   ]
  },
  {
   "cell_type": "code",
   "execution_count": 107,
   "id": "a8d59afe",
   "metadata": {},
   "outputs": [
    {
     "name": "stdout",
     "output_type": "stream",
     "text": [
      "{1: 'java', 2: 'kotlin', 3: 'dart'}\n"
     ]
    }
   ],
   "source": [
    "#Accessing Items\n",
    "\n",
    "g =dict({1:\"java\",2:\"kotlin\",3:\"dart\"})\n",
    "print(g)"
   ]
  },
  {
   "cell_type": "code",
   "execution_count": 108,
   "id": "f13b178f",
   "metadata": {},
   "outputs": [
    {
     "name": "stdout",
     "output_type": "stream",
     "text": [
      "kotlin\n",
      "dart\n"
     ]
    }
   ],
   "source": [
    "print(g[2])\n",
    "print(g.get(3))"
   ]
  },
  {
   "cell_type": "markdown",
   "id": "8bbe7b49",
   "metadata": {},
   "source": [
    "# 3. Tuples"
   ]
  },
  {
   "cell_type": "markdown",
   "id": "4a1da140",
   "metadata": {},
   "source": [
    "Same as lists but not mutable (liable to change)\n",
    "Faster than lists"
   ]
  },
  {
   "cell_type": "code",
   "execution_count": 1,
   "id": "59815f9b",
   "metadata": {},
   "outputs": [
    {
     "name": "stdout",
     "output_type": "stream",
     "text": [
      "()\n",
      "(1, 2, 3, 4, 5, 6)\n",
      "(2, 3, 4, 5)\n"
     ]
    }
   ],
   "source": [
    "my_tup=()\n",
    "z = (1,2,3,4,5,6)\n",
    "y = tuple((2,3,4,5))\n",
    "\n",
    "print(my_tup)\n",
    "print(z)\n",
    "print(y)"
   ]
  },
  {
   "cell_type": "code",
   "execution_count": 2,
   "id": "8295e997",
   "metadata": {},
   "outputs": [
    {
     "name": "stdout",
     "output_type": "stream",
     "text": [
      "2\n",
      "3\n",
      "4\n",
      "5\n"
     ]
    }
   ],
   "source": [
    "for i in y:\n",
    "    print(i)"
   ]
  },
  {
   "cell_type": "markdown",
   "id": "ff844ece",
   "metadata": {},
   "source": [
    "# 4. Sets"
   ]
  },
  {
   "cell_type": "code",
   "execution_count": null,
   "id": "57a2cf83",
   "metadata": {},
   "outputs": [],
   "source": [
    "Un-ordered collection of unique elements\n",
    "Sets are mutables"
   ]
  },
  {
   "cell_type": "code",
   "execution_count": 3,
   "id": "cfff8968",
   "metadata": {},
   "outputs": [
    {
     "name": "stdout",
     "output_type": "stream",
     "text": [
      "{2, 3, 4, 5, 6}\n"
     ]
    }
   ],
   "source": [
    "x={2,3,4,5,6,3,4,5}\n",
    "print(x)"
   ]
  },
  {
   "cell_type": "code",
   "execution_count": 4,
   "id": "dca9a061",
   "metadata": {},
   "outputs": [],
   "source": [
    "x.add(8)"
   ]
  },
  {
   "cell_type": "code",
   "execution_count": 5,
   "id": "8e1e8311",
   "metadata": {},
   "outputs": [
    {
     "data": {
      "text/plain": [
       "{2, 3, 4, 5, 6, 8}"
      ]
     },
     "execution_count": 5,
     "metadata": {},
     "output_type": "execute_result"
    }
   ],
   "source": [
    "x"
   ]
  },
  {
   "cell_type": "code",
   "execution_count": 6,
   "id": "fd3082f4",
   "metadata": {},
   "outputs": [
    {
     "name": "stdout",
     "output_type": "stream",
     "text": [
      "{1, 2, 3, 4, 5, 6, 8}\n"
     ]
    }
   ],
   "source": [
    "# union\n",
    "y={1,2,3,4,5}\n",
    "z= x|y\n",
    "print(z)"
   ]
  },
  {
   "cell_type": "code",
   "execution_count": 7,
   "id": "cfc22622",
   "metadata": {},
   "outputs": [
    {
     "name": "stdout",
     "output_type": "stream",
     "text": [
      "x U y =  {1, 2, 3, 4, 5, 6, 8}\n"
     ]
    }
   ],
   "source": [
    "print(\"x U y = \",x.union(y))\n"
   ]
  },
  {
   "cell_type": "code",
   "execution_count": 8,
   "id": "924aeeb6",
   "metadata": {},
   "outputs": [
    {
     "name": "stdout",
     "output_type": "stream",
     "text": [
      "x intersection y =  {2, 3, 4, 5}\n"
     ]
    }
   ],
   "source": [
    "print(\"x intersection y = \",x.intersection(y))"
   ]
  },
  {
   "cell_type": "markdown",
   "id": "f3196208",
   "metadata": {},
   "source": [
    "# User-Defined Data Structures"
   ]
  },
  {
   "cell_type": "markdown",
   "id": "91e4ff2d",
   "metadata": {},
   "source": [
    "Stack\n",
    "Queues\n",
    "Trees\n",
    "Linked List\n",
    "Graphs\n",
    "HashMaps"
   ]
  },
  {
   "cell_type": "markdown",
   "id": "3fe3df54",
   "metadata": {},
   "source": [
    "1. Arrays\n",
    "Arrays are used to store data of just one type\n",
    "They have index which is used to access the data accordingly"
   ]
  },
  {
   "cell_type": "markdown",
   "id": "f556a3ed",
   "metadata": {},
   "source": [
    "2. Stack\n",
    "made from arrays\n",
    "stacks follow the LIFO principle\n",
    "They have a pointer called TOP which is to track the top of the element\n",
    "\n",
    "OPERATIONS\n",
    "a. push\n",
    "data is added into the stack\n",
    "b. pop\n",
    "data is deleted from the stack \n"
   ]
  },
  {
   "cell_type": "markdown",
   "id": "18f1af14",
   "metadata": {},
   "source": [
    "3. Queues\n",
    "made from arrays\n",
    "follow the FIFO principle\n",
    "Operations can be performed from the front or back of the queue\n",
    "\n",
    "OPERATIONS\n",
    "a. En-Queue\n",
    "adding elements into queue\n",
    "b. De-Queue\n",
    "delete elements from queue\n"
   ]
  },
  {
   "cell_type": "markdown",
   "id": "64601f1d",
   "metadata": {},
   "source": [
    "4.Trees\n",
    "helpful to define hierarchy\n",
    "Tree starts with the root node and go further down\n",
    "Last nodes are called child nodes\n"
   ]
  },
  {
   "cell_type": "markdown",
   "id": "3b693055",
   "metadata": {},
   "source": [
    "5. Linked Lists\n",
    "made up of two fields, the data and the next field\n",
    "data field holds data and the next field points to the next node\n",
    "the first node is called as the head"
   ]
  },
  {
   "cell_type": "markdown",
   "id": "388ded99",
   "metadata": {},
   "source": [
    "6. Graphs\n",
    "Graphs closely represent real world geographical locations\n",
    "They have vertices and edges\n",
    "can be used to find shortest path and help in finding least cost\n"
   ]
  },
  {
   "cell_type": "markdown",
   "id": "2b9c3ef7",
   "metadata": {},
   "source": [
    "# Comments in Python"
   ]
  },
  {
   "cell_type": "markdown",
   "id": "0cdaecfd",
   "metadata": {},
   "source": [
    "Programmer Coherent statements\n",
    "Describe what a block of code means"
   ]
  },
  {
   "cell_type": "code",
   "execution_count": 12,
   "id": "79f995ea",
   "metadata": {},
   "outputs": [
    {
     "name": "stdout",
     "output_type": "stream",
     "text": [
      "Comments in python start with a #\n"
     ]
    }
   ],
   "source": [
    "#Comments in python start with a (#)\n",
    "print(\"Comments in python start with a #\")"
   ]
  },
  {
   "cell_type": "code",
   "execution_count": null,
   "id": "5305d3bf",
   "metadata": {},
   "outputs": [],
   "source": [
    "1. Precise and Clear\n",
    "2. Short and Relevant\n",
    "3. Specific to the vlock of code\n",
    "4. Maintain language ethics\n",
    "5. Least redundant\n"
   ]
  },
  {
   "cell_type": "markdown",
   "id": "90a77a52",
   "metadata": {},
   "source": [
    "# 1. Single Line Comments"
   ]
  },
  {
   "cell_type": "code",
   "execution_count": 13,
   "id": "d346f865",
   "metadata": {},
   "outputs": [
    {
     "name": "stdout",
     "output_type": "stream",
     "text": [
      "2\n"
     ]
    }
   ],
   "source": [
    "#can appear in and individual line or with some other code\n",
    "\n",
    "a=1\n",
    "b=2\n",
    "c=a*b\n",
    "print(c) #print results"
   ]
  },
  {
   "cell_type": "markdown",
   "id": "03034139",
   "metadata": {},
   "source": [
    "# 2. Multi line Comments"
   ]
  },
  {
   "cell_type": "code",
   "execution_count": 14,
   "id": "48df5878",
   "metadata": {},
   "outputs": [
    {
     "name": "stdout",
     "output_type": "stream",
     "text": [
      "3\n"
     ]
    }
   ],
   "source": [
    "#can appear anywhere\n",
    "#but each line should be prefixed by # character\n",
    "# program to add two integers\n",
    "a=1\n",
    "b=2\n",
    "c=a+b\n",
    "print(c)"
   ]
  },
  {
   "cell_type": "markdown",
   "id": "486196d4",
   "metadata": {},
   "source": [
    "# Docstring Comments"
   ]
  },
  {
   "cell_type": "code",
   "execution_count": 18,
   "id": "61c7c6c9",
   "metadata": {},
   "outputs": [
    {
     "name": "stdout",
     "output_type": "stream",
     "text": [
      "0.8333333333333334\n"
     ]
    }
   ],
   "source": [
    "\"\"\"\n",
    "Code divides 2 numbers\n",
    "\"\"\"\n",
    "a=5\n",
    "b=6\n",
    "c=a/b\n",
    "print(c)"
   ]
  },
  {
   "cell_type": "code",
   "execution_count": 17,
   "id": "2576bb30",
   "metadata": {},
   "outputs": [
    {
     "data": {
      "text/plain": [
       "'\\n\\ndocstrings are not ommitted by the interpreter\\ncomments are ommitted\\nCode divides 2 numbers\\n'"
      ]
     },
     "execution_count": 17,
     "metadata": {},
     "output_type": "execute_result"
    }
   ],
   "source": [
    "\"\"\"\n",
    "\n",
    "docstrings are not ommitted by the interpreter\n",
    "comments are ommitted\n",
    "Code divides 2 numbers\n",
    "\"\"\""
   ]
  },
  {
   "cell_type": "markdown",
   "id": "afb5ac4d",
   "metadata": {},
   "source": [
    "# Operators In Python"
   ]
  },
  {
   "cell_type": "code",
   "execution_count": null,
   "id": "71df0381",
   "metadata": {},
   "outputs": [],
   "source": [
    "Arithmetic\n",
    "Assighnment\n",
    "Comparison\n",
    "Logical\n",
    "Membership\n",
    "Identity\n",
    "Bitwise"
   ]
  }
 ],
 "metadata": {
  "kernelspec": {
   "display_name": "Python 3 (ipykernel)",
   "language": "python",
   "name": "python3"
  },
  "language_info": {
   "codemirror_mode": {
    "name": "ipython",
    "version": 3
   },
   "file_extension": ".py",
   "mimetype": "text/x-python",
   "name": "python",
   "nbconvert_exporter": "python",
   "pygments_lexer": "ipython3",
   "version": "3.9.13"
  }
 },
 "nbformat": 4,
 "nbformat_minor": 5
}
