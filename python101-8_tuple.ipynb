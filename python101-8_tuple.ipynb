{
 "cells": [
  {
   "cell_type": "markdown",
   "id": "2645e44d",
   "metadata": {},
   "source": [
    "# Tuple In Python"
   ]
  },
  {
   "cell_type": "code",
   "execution_count": null,
   "id": "83ada9c5",
   "metadata": {},
   "outputs": [],
   "source": []
  },
  {
   "cell_type": "code",
   "execution_count": null,
   "id": "4c521e22",
   "metadata": {},
   "outputs": [],
   "source": []
  },
  {
   "cell_type": "markdown",
   "id": "c2868de6",
   "metadata": {},
   "source": [
    "# Accessing Elements In A Tuple"
   ]
  },
  {
   "cell_type": "code",
   "execution_count": null,
   "id": "e66f0e9e",
   "metadata": {},
   "outputs": [],
   "source": [
    "Indexing\n",
    "Slicing"
   ]
  },
  {
   "cell_type": "code",
   "execution_count": null,
   "id": "e1e84296",
   "metadata": {},
   "outputs": [],
   "source": []
  },
  {
   "cell_type": "markdown",
   "id": "87d74392",
   "metadata": {},
   "source": [
    "# Changing a Tuple"
   ]
  },
  {
   "cell_type": "code",
   "execution_count": null,
   "id": "b42d079c",
   "metadata": {},
   "outputs": [],
   "source": []
  },
  {
   "cell_type": "code",
   "execution_count": null,
   "id": "0e90110e",
   "metadata": {},
   "outputs": [],
   "source": [
    "Concatenating Two Tuples"
   ]
  },
  {
   "cell_type": "code",
   "execution_count": null,
   "id": "3fc44638",
   "metadata": {},
   "outputs": [],
   "source": [
    "Deleting a Tuple"
   ]
  },
  {
   "cell_type": "code",
   "execution_count": null,
   "id": "4b88dbe1",
   "metadata": {},
   "outputs": [],
   "source": []
  },
  {
   "cell_type": "markdown",
   "id": "a81d121a",
   "metadata": {},
   "source": [
    "# Tuple Methods"
   ]
  },
  {
   "cell_type": "code",
   "execution_count": null,
   "id": "17fe817a",
   "metadata": {},
   "outputs": [],
   "source": [
    "Count\n",
    "Index"
   ]
  },
  {
   "cell_type": "code",
   "execution_count": null,
   "id": "d4c8b74e",
   "metadata": {},
   "outputs": [],
   "source": []
  },
  {
   "cell_type": "markdown",
   "id": "97ceafe8",
   "metadata": {},
   "source": [
    "# List Vs Tuple"
   ]
  },
  {
   "cell_type": "code",
   "execution_count": null,
   "id": "f5e973bd",
   "metadata": {},
   "outputs": [],
   "source": []
  },
  {
   "cell_type": "code",
   "execution_count": null,
   "id": "05994ecb",
   "metadata": {},
   "outputs": [],
   "source": [
    "Tuple Constructor"
   ]
  },
  {
   "cell_type": "code",
   "execution_count": null,
   "id": "99989096",
   "metadata": {},
   "outputs": [],
   "source": []
  }
 ],
 "metadata": {
  "kernelspec": {
   "display_name": "Python 3 (ipykernel)",
   "language": "python",
   "name": "python3"
  },
  "language_info": {
   "codemirror_mode": {
    "name": "ipython",
    "version": 3
   },
   "file_extension": ".py",
   "mimetype": "text/x-python",
   "name": "python",
   "nbconvert_exporter": "python",
   "pygments_lexer": "ipython3",
   "version": "3.9.13"
  }
 },
 "nbformat": 4,
 "nbformat_minor": 5
}
