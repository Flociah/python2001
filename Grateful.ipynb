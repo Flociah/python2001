{
  "nbformat": 4,
  "nbformat_minor": 0,
  "metadata": {
    "colab": {
      "provenance": [],
      "authorship_tag": "ABX9TyMAPmATilKQytLpaqxVNxNM",
      "include_colab_link": true
    },
    "kernelspec": {
      "name": "python3",
      "display_name": "Python 3"
    },
    "language_info": {
      "name": "python"
    }
  },
  "cells": [
    {
      "cell_type": "markdown",
      "metadata": {
        "id": "view-in-github",
        "colab_type": "text"
      },
      "source": [
        "<a href=\"https://colab.research.google.com/github/Flociah/python2001/blob/main/Grateful.ipynb\" target=\"_parent\"><img src=\"https://colab.research.google.com/assets/colab-badge.svg\" alt=\"Open In Colab\"/></a>"
      ]
    },
    {
      "cell_type": "code",
      "execution_count": 39,
      "metadata": {
        "colab": {
          "base_uri": "https://localhost:8080/"
        },
        "id": "SC3foEaRhVhC",
        "outputId": "601f48df-938f-44e2-ae3e-46e92cda43dd"
      },
      "outputs": [
        {
          "output_type": "stream",
          "name": "stdout",
          "text": [
            "Hello,My World\n",
            "Having you in my life has been a great blessing. I sincerely appreciate the kinds of sacrifices you've been making for me.\n",
            "Am very grateful for the efforts and time you taken to thoughtfully get me new gifts everyday and everytime we meet.\n",
            "Just to mention a few, here are the gifts that I sincerely appreciate and for sure they have been very helpful:\n",
            "1.Notebooks\n",
            "2.The book of Isaiah\n",
            "3.Chocolates\n",
            "4.Black and love vases\n",
            "5.Foldable mobile phone holder\n",
            "6.Packets of milk\n",
            "7.Love gift\n",
            "We're doing great\n",
            "We need to increase the number of roadtrips by 2\n",
            "Target number of road trips are, 11\n"
          ]
        }
      ],
      "source": [
        "name = (\"MY wOrld\")\n",
        "greetings = (\"Hello,\" + name).title()\n",
        "print(greetings)\n",
        "message = \"Having you in my life has been a great blessing. I sincerely appreciate the kinds of sacrifices you've been making for me.\"\n",
        "print(message)\n",
        "gifting = \"Am very grateful for the efforts and time you taken to thoughtfully get me new gifts everyday and everytime we meet.\"\n",
        "print(gifting)\n",
        "date_of_meeting = str (\"April 2024\")\n",
        "time = (\"Never have I ever regretted spending time with you since we re-newed our friendship,\" + date_of_meeting)\n",
        "print(\"Just to mention a few, here are the gifts that I sincerely appreciate and for sure they have been very helpful:\")\n",
        "number_of_gifts = [1,2,3,4,5,6,7]\n",
        "index = 0\n",
        "names_to_the_gifts = [\"Notebooks\", \"The book of Isaiah\", \"Chocolates\", \"Black and love vases\", \"Foldable mobile phone holder\", \"Packets of milk\", \"Love gift\",\"Time\"]\n",
        "for num in number_of_gifts:\n",
        "    print(str(number_of_gifts[index]) + \".\" + names_to_the_gifts[index])\n",
        "    index = index + 1\n",
        "\n",
        "time_spent = 100\n",
        "check_count = 0\n",
        "if time_spent < 20:\n",
        "  print(\"However, I need us to improve on the number of times we have meet-ups\")\n",
        "  check_count = +1\n",
        "elif time_spent == 50:\n",
        "  print(\"We can do better\")\n",
        "  check_count = +1\n",
        "elif time_spent > 50:\n",
        "  print(\"We're doing great\")\n",
        "  check_count = +1\n",
        "else:\n",
        "  print(\"We're doing great. You mean the world to me\")\n",
        "  print(\"check_count\", check_count)\n",
        "\n",
        "trips_bucket_list = 10\n",
        "number_roadtrips = 2\n",
        "while number_roadtrips <= trips_bucket_list:\n",
        "  print(\"We need to increase the number of roadtrips by \" + str(number_roadtrips))\n",
        "  number_roadtrips = trips_bucket_list + 1\n",
        "  print(\"Target number of road trips are,\" , number_roadtrips)\n",
        "\n",
        "\n",
        "\n",
        "\n",
        "\n",
        "\n",
        "\n",
        "\n",
        "\n",
        "\n",
        "\n",
        "\n",
        "\n"
      ]
    },
    {
      "cell_type": "code",
      "source": [
        "len(names_to_the_gifts)"
      ],
      "metadata": {
        "colab": {
          "base_uri": "https://localhost:8080/"
        },
        "id": "e6c6tcrOv9ie",
        "outputId": "21db03af-6e0b-4961-895f-abb80f7d25de"
      },
      "execution_count": 9,
      "outputs": [
        {
          "output_type": "execute_result",
          "data": {
            "text/plain": [
              "7"
            ]
          },
          "metadata": {},
          "execution_count": 9
        }
      ]
    },
    {
      "cell_type": "code",
      "source": [
        "# Creation of arrays from the given list.\n",
        "import numpy as np\n",
        "number_of_gifts = [1,2,3,4,5,6,7]\n",
        "gifts_array = np.array(number_of_gifts)\n",
        "print(gifts_array)\n",
        "print(np.ones(7))\n",
        "total_number_gifts = np.sum(gifts_array)\n",
        "print(total_number_gifts)\n",
        "print(np.min(gifts_array))\n",
        "print(np.max(gifts_array))\n",
        "print(np.mean(gifts_array))\n",
        "print(np.median(gifts_array))\n",
        "print(np.std(gifts_array))\n",
        "print(np.var(gifts_array))\n",
        "print(np.sqrt(gifts_array))\n",
        "print(np.square(gifts_array))\n",
        "print(np.log(gifts_array))\n",
        "print(np.log10(gifts_array))\n",
        "print(np.exp(gifts_array))\n",
        "print(np.sin(gifts_array))\n",
        "print(np.cos(gifts_array))\n",
        "print(np.tan(gifts_array))\n",
        "#print(np.arcsin(gifts_array))\n",
        "#print(np.arccos(gifts_array))\n",
        "#print(np.arctan(gifts_array))\n",
        "print(np.degrees(gifts_array))\n",
        "print(np.radians(gifts_array))\n",
        "print(np.around(gifts_array))\n",
        "print(np.floor(gifts_array))\n",
        "print(np.ceil(gifts_array))\n",
        "print(np.trunc(gifts_array))\n",
        "print(np.rint(gifts_array))\n",
        "from scipy import stats\n",
        "print(stats.mode(gifts_array))\n",
        "\n",
        "new_list = []\n",
        "new_list.append(np.sin(stats.mode(gifts_array)))\n",
        "print(new_list)\n",
        "\n",
        "\n",
        "\n",
        ""
      ],
      "metadata": {
        "colab": {
          "base_uri": "https://localhost:8080/"
        },
        "id": "ezvfYDvekdXG",
        "outputId": "c248197d-fd68-402b-f55e-5744a8c9201e"
      },
      "execution_count": 68,
      "outputs": [
        {
          "output_type": "stream",
          "name": "stdout",
          "text": [
            "[1 2 3 4 5 6 7]\n",
            "[1. 1. 1. 1. 1. 1. 1.]\n",
            "28\n",
            "1\n",
            "7\n",
            "4.0\n",
            "4.0\n",
            "2.0\n",
            "4.0\n",
            "[1.         1.41421356 1.73205081 2.         2.23606798 2.44948974\n",
            " 2.64575131]\n",
            "[ 1  4  9 16 25 36 49]\n",
            "[0.         0.69314718 1.09861229 1.38629436 1.60943791 1.79175947\n",
            " 1.94591015]\n",
            "[0.         0.30103    0.47712125 0.60205999 0.69897    0.77815125\n",
            " 0.84509804]\n",
            "[   2.71828183    7.3890561    20.08553692   54.59815003  148.4131591\n",
            "  403.42879349 1096.63315843]\n",
            "[ 0.84147098  0.90929743  0.14112001 -0.7568025  -0.95892427 -0.2794155\n",
            "  0.6569866 ]\n",
            "[ 0.54030231 -0.41614684 -0.9899925  -0.65364362  0.28366219  0.96017029\n",
            "  0.75390225]\n",
            "[ 1.55740772 -2.18503986 -0.14254654  1.15782128 -3.38051501 -0.29100619\n",
            "  0.87144798]\n",
            "[ 57.29577951 114.59155903 171.88733854 229.18311805 286.47889757\n",
            " 343.77467708 401.07045659]\n",
            "[0.01745329 0.03490659 0.05235988 0.06981317 0.08726646 0.10471976\n",
            " 0.12217305]\n",
            "[1 2 3 4 5 6 7]\n",
            "[1. 2. 3. 4. 5. 6. 7.]\n",
            "[1. 2. 3. 4. 5. 6. 7.]\n",
            "[1. 2. 3. 4. 5. 6. 7.]\n",
            "[1. 2. 3. 4. 5. 6. 7.]\n",
            "ModeResult(mode=1, count=1)\n",
            "[array([0.84147098, 0.84147098])]\n"
          ]
        }
      ]
    },
    {
      "cell_type": "code",
      "source": [
        "x = [[1,2,3,4],[5,6,7,8]]\n",
        "xarray = np.array(x)\n",
        "for x in xarray:\n",
        "  for y in x:\n",
        "    print(x)"
      ],
      "metadata": {
        "colab": {
          "base_uri": "https://localhost:8080/"
        },
        "id": "6JhLp95CNvyw",
        "outputId": "2ff10429-129e-4047-c7f8-762e37dd3e6a"
      },
      "execution_count": 72,
      "outputs": [
        {
          "output_type": "stream",
          "name": "stdout",
          "text": [
            "[1 2 3 4]\n",
            "[1 2 3 4]\n",
            "[1 2 3 4]\n",
            "[1 2 3 4]\n",
            "[5 6 7 8]\n",
            "[5 6 7 8]\n",
            "[5 6 7 8]\n",
            "[5 6 7 8]\n"
          ]
        }
      ]
    },
    {
      "cell_type": "code",
      "source": [
        "# Use of Matplotlib to generate box\n",
        "import matplotlib.pyplot as plt\n",
        "x = [56,45,65,65,78,76,78,39,28,43,78]\n",
        "plt.boxplot(x,showfliers = False)\n",
        "plt.title(\"Retirement age as per 2004\")\n",
        "plt.ylabel(\"Age\")\n",
        "plt.ylabel(\"Age\")\n",
        "plt.show()\n"
      ],
      "metadata": {
        "colab": {
          "base_uri": "https://localhost:8080/",
          "height": 452
        },
        "id": "fgDiulKRUqYb",
        "outputId": "18cb56f7-8aa3-4eee-e7f2-c7d3a1d8c8b8"
      },
      "execution_count": 78,
      "outputs": [
        {
          "output_type": "display_data",
          "data": {
            "text/plain": [
              "<Figure size 640x480 with 1 Axes>"
            ],
            "image/png": "[encoded data removed]"
          },
          "metadata": {}
        }
      ]
    },
    {
      "cell_type": "code",
      "source": [],
      "metadata": {
        "id": "-wpT9wgGabFS"
      },
      "execution_count": null,
      "outputs": []
    }
  ]
}